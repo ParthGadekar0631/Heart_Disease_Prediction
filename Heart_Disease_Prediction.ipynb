{
  "nbformat": 4,
  "nbformat_minor": 0,
  "metadata": {
    "colab": {
      "provenance": [],
      "collapsed_sections": [
        "LJ9ciJP2WMGC"
      ],
      "authorship_tag": "ABX9TyNUzcF2DatIr6DcEnGbBL8/",
      "include_colab_link": true
    },
    "kernelspec": {
      "name": "python3",
      "display_name": "Python 3"
    },
    "language_info": {
      "name": "python"
    }
  },
  "cells": [
    {
      "cell_type": "markdown",
      "metadata": {
        "id": "view-in-github",
        "colab_type": "text"
      },
      "source": [
        "<a href=\"https://colab.research.google.com/github/ParthGadekar0631/Heart_Disease_Prediction/blob/main/Heart_Disease_Prediction.ipynb\" target=\"_parent\"><img src=\"https://colab.research.google.com/assets/colab-badge.svg\" alt=\"Open In Colab\"/></a>"
      ]
    },
    {
      "cell_type": "markdown",
      "source": [
        "# Heart Disease Prediction\n"
      ],
      "metadata": {
        "id": "urQLpNHvazpc"
      }
    },
    {
      "cell_type": "markdown",
      "source": [
        "### Data Preparation"
      ],
      "metadata": {
        "id": "SnVO0m6Fa33x"
      }
    },
    {
      "cell_type": "code",
      "execution_count": null,
      "metadata": {
        "id": "0s2cHXVeMON0"
      },
      "outputs": [],
      "source": [
        "# Importing all the necessary libraries that would be needed in the project\n",
        "\n",
        "import pandas as pd\n",
        "import numpy as np\n",
        "import matplotlib.pyplot as plt\n",
        "import seaborn as sns\n",
        "from sklearn.model_selection import train_test_split\n",
        "from sklearn.preprocessing import StandardScaler, LabelEncoder\n",
        "from sklearn.ensemble import GradientBoostingClassifier\n",
        "from sklearn.linear_model import LogisticRegression\n",
        "from sklearn.neighbors import KNeighborsClassifier\n",
        "from sklearn.tree import DecisionTreeClassifier\n",
        "from sklearn.ensemble import RandomForestClassifier\n",
        "from sklearn.svm import LinearSVC, SVC\n",
        "from sklearn.calibration import CalibratedClassifierCV\n",
        "from sklearn.model_selection import GridSearchCV\n",
        "from sklearn.metrics import accuracy_score, precision_score, recall_score, f1_score, roc_auc_score, confusion_matrix, classification_report, mean_squared_error, r2_score, roc_curve, auc\n",
        "from sklearn.model_selection import cross_val_score"
      ]
    },
    {
      "cell_type": "code",
      "source": [
        "# loading the csv data to a Pandas DataFrame\n",
        "df = pd.read_csv('heart_2022_no_nans.csv')\n",
        "\n",
        "# print the first 5 rows of the dataset\n",
        "df.head()"
      ],
      "metadata": {
        "id": "hDvMo68aMTny"
      },
      "execution_count": null,
      "outputs": []
    },
    {
      "cell_type": "code",
      "source": [
        "# Encode categorical variables\n",
        "df_encoded = df.copy()\n",
        "le = LabelEncoder()\n",
        "for col in df_encoded.select_dtypes(include='object').columns:\n",
        "    df_encoded[col] = le.fit_transform(df_encoded[col])\n",
        "df_encoded.head()"
      ],
      "metadata": {
        "id": "ENjpzFQ_o7S6"
      },
      "execution_count": null,
      "outputs": []
    },
    {
      "cell_type": "code",
      "source": [
        "# Getting information about the dataset\n",
        "df_encoded.info()"
      ],
      "metadata": {
        "id": "ji8i-rJJQl9W"
      },
      "execution_count": null,
      "outputs": []
    },
    {
      "cell_type": "code",
      "source": [
        "# Checking for missing values\n",
        "df_encoded.isnull().sum()"
      ],
      "metadata": {
        "id": "WHmnxFr8Qyhn"
      },
      "execution_count": null,
      "outputs": []
    },
    {
      "cell_type": "code",
      "source": [
        "# Define numerical columns\n",
        "target_col = 'HadHeartAttack'  # Dependent variable\n",
        "numerical_cols = df.drop(columns=[target_col]).select_dtypes(include=['int64', 'float64']).columns\n",
        "\n",
        "# Boxplot to visualize outliers\n",
        "plt.figure(figsize=(15, 8))\n",
        "df[numerical_cols].boxplot(rot=45)\n",
        "plt.title('Boxplot of Numeric Features')\n",
        "plt.show()\n",
        "\n",
        "# Using IQR to detect and handle outliers\n",
        "def detect_outliers_iqr(data, column):\n",
        "    Q1 = data[column].quantile(0.25)\n",
        "    Q3 = data[column].quantile(0.75)\n",
        "    IQR = Q3 - Q1\n",
        "    lower_bound = Q1 - 1.5 * IQR\n",
        "    upper_bound = Q3 + 1.5 * IQR\n",
        "    outliers = data[(data[column] < lower_bound) | (data[column] > upper_bound)]\n",
        "    return outliers, lower_bound, upper_bound\n",
        "\n",
        "# Handling outliers: Cap extreme values using IQR\n",
        "for col in numerical_cols:\n",
        "    _, lower, upper = detect_outliers_iqr(df, col)\n",
        "    df[col] = np.clip(df[col], lower, upper)\n",
        "\n",
        "# Checking for outliers in each numerical column\n",
        "outlier_counts = {}\n",
        "for col in numerical_cols:\n",
        "    outliers, _, _ = detect_outliers_iqr(df, col)\n",
        "    outlier_counts[col] = len(outliers)\n",
        "\n",
        "# Display the number of outliers per column\n",
        "outlier_counts\n"
      ],
      "metadata": {
        "id": "onKA4g-jmzie"
      },
      "execution_count": null,
      "outputs": []
    },
    {
      "cell_type": "code",
      "source": [
        "# Statisitcal measures about the data\n",
        "df_encoded.describe()"
      ],
      "metadata": {
        "id": "YKnWOd9KQ8wr"
      },
      "execution_count": null,
      "outputs": []
    },
    {
      "cell_type": "code",
      "source": [
        "# Checking the distribution of the target variable\n",
        "df_encoded['HadHeartAttack'].value_counts()"
      ],
      "metadata": {
        "id": "npQ0TWXpRF7U"
      },
      "execution_count": null,
      "outputs": []
    },
    {
      "cell_type": "markdown",
      "source": [
        "1 --> Defective Heart\n",
        "\n",
        "0 --> Healthy Heart"
      ],
      "metadata": {
        "id": "DyfhNc-hRMa7"
      }
    },
    {
      "cell_type": "code",
      "source": [
        "# Compute correlation matrix on encoded data\n",
        "correlation_matrix = df_encoded.corr()\n",
        "\n",
        "# Visualize correlation matrix as a heatmap\n",
        "plt.figure(figsize=(15, 10))\n",
        "sns.heatmap(correlation_matrix, annot=True, cmap='coolwarm', fmt='.2f', linewidths=0.5)\n",
        "plt.title('Feature Correlation Heatmap')\n",
        "plt.show()\n",
        "\n",
        "# Identify highly correlated features (threshold = 0.85)\n",
        "thresh = 0.85\n",
        "high_corr_features = set()\n",
        "for i in range(len(correlation_matrix.columns)):\n",
        "    for j in range(i):\n",
        "        if abs(correlation_matrix.iloc[i, j]) > thresh:\n",
        "            high_corr_features.add(correlation_matrix.columns[i])\n",
        "\n",
        "# Drop highly correlated features (excluding target)\n",
        "high_corr_features.discard('HadHeartAttack')\n",
        "df_encoded = df_encoded.drop(columns=high_corr_features)\n",
        "\n",
        "# Print removed features\n",
        "print(\"Dropped highly correlated features:\", high_corr_features)\n"
      ],
      "metadata": {
        "id": "7fkAF54DnyhE"
      },
      "execution_count": null,
      "outputs": []
    },
    {
      "cell_type": "markdown",
      "source": [
        "##Splitting the Features and Target"
      ],
      "metadata": {
        "id": "Kgpd-33DReGS"
      }
    },
    {
      "cell_type": "code",
      "source": [
        "# Define features and target from the encoded dataset\n",
        "X = df_encoded.drop(columns='HadHeartAttack', axis=1)  # All features\n",
        "Y = df_encoded['HadHeartAttack']  # Target variable (binary: 0 or 1)\n",
        "\n",
        "# Display the feature matrix\n",
        "print(X)"
      ],
      "metadata": {
        "colab": {
          "base_uri": "https://localhost:8080/"
        },
        "id": "K3XEnf0_Rj_V",
        "outputId": "94d391d8-ef61-41a2-9565-0c2c8823b210"
      },
      "execution_count": null,
      "outputs": [
        {
          "output_type": "stream",
          "name": "stdout",
          "text": [
            "        State  Sex  GeneralHealth  PhysicalHealthDays  MentalHealthDays  \\\n",
            "0           0    0              4                 4.0               0.0   \n",
            "1           0    1              4                 0.0               0.0   \n",
            "2           0    1              4                 0.0               0.0   \n",
            "3           0    0              1                 5.0               0.0   \n",
            "4           0    0              2                 3.0              15.0   \n",
            "...       ...  ...            ...                 ...               ...   \n",
            "246017     48    1              4                 0.0               0.0   \n",
            "246018     48    0              1                 0.0               7.0   \n",
            "246019     48    1              2                 0.0              15.0   \n",
            "246020     48    0              0                 2.0               2.0   \n",
            "246021     48    1              4                 0.0               0.0   \n",
            "\n",
            "        LastCheckupTime  PhysicalActivities  SleepHours  RemovedTeeth  \\\n",
            "0                     3                   1         9.0             3   \n",
            "1                     3                   1         6.0             3   \n",
            "2                     3                   0         8.0             1   \n",
            "3                     3                   1         9.0             3   \n",
            "4                     3                   1         5.0             0   \n",
            "...                 ...                 ...         ...           ...   \n",
            "246017                1                   1         6.0             3   \n",
            "246018                3                   1         7.0             3   \n",
            "246019                3                   1         7.0             0   \n",
            "246020                3                   1         7.0             3   \n",
            "246021                3                   0         5.0             3   \n",
            "\n",
            "        HadAngina  ...  AgeCategory  HeightInMeters  WeightInKilograms  \\\n",
            "0               0  ...            9            1.60              71.67   \n",
            "1               0  ...           10            1.78              95.25   \n",
            "2               0  ...           11            1.85             108.86   \n",
            "3               0  ...           12            1.70              90.72   \n",
            "4               0  ...           12            1.55              79.38   \n",
            "...           ...  ...          ...             ...                ...   \n",
            "246017          0  ...            8            1.78             102.06   \n",
            "246018          0  ...            1            1.93              90.72   \n",
            "246019          0  ...            9            1.68              83.91   \n",
            "246020          0  ...            6            1.70              83.01   \n",
            "246021          0  ...           10            1.83             108.86   \n",
            "\n",
            "        AlcoholDrinkers  HIVTesting  FluVaxLast12  PneumoVaxEver  \\\n",
            "0                     0           0             1              1   \n",
            "1                     0           0             1              1   \n",
            "2                     1           0             0              1   \n",
            "3                     0           0             1              1   \n",
            "4                     0           0             1              1   \n",
            "...                 ...         ...           ...            ...   \n",
            "246017                1           0             0              0   \n",
            "246018                0           0             0              0   \n",
            "246019                1           1             1              1   \n",
            "246020                0           1             1              0   \n",
            "246021                0           1             1              1   \n",
            "\n",
            "        TetanusLast10Tdap  HighRiskLastYear  CovidPos  \n",
            "0                       1                 0         0  \n",
            "1                       2                 0         0  \n",
            "2                       0                 0         2  \n",
            "3                       0                 0         2  \n",
            "4                       0                 0         0  \n",
            "...                   ...               ...       ...  \n",
            "246017                  2                 0         0  \n",
            "246018                  0                 0         2  \n",
            "246019                  2                 0         2  \n",
            "246020                  2                 0         0  \n",
            "246021                  0                 0         2  \n",
            "\n",
            "[246022 rows x 38 columns]\n"
          ]
        }
      ]
    },
    {
      "cell_type": "code",
      "source": [
        "print(Y)"
      ],
      "metadata": {
        "colab": {
          "base_uri": "https://localhost:8080/"
        },
        "id": "JKpmHjRLRp8P",
        "outputId": "d51f5ccd-e1ca-4ea8-a2df-2f3cf2a1f87d"
      },
      "execution_count": null,
      "outputs": [
        {
          "output_type": "stream",
          "name": "stdout",
          "text": [
            "0         0\n",
            "1         0\n",
            "2         0\n",
            "3         0\n",
            "4         0\n",
            "         ..\n",
            "246017    0\n",
            "246018    0\n",
            "246019    0\n",
            "246020    0\n",
            "246021    1\n",
            "Name: HadHeartAttack, Length: 246022, dtype: int64\n"
          ]
        }
      ]
    },
    {
      "cell_type": "markdown",
      "source": [
        "##Splitting the Data into Training and Test data"
      ],
      "metadata": {
        "id": "P6MvWrSGRuHN"
      }
    },
    {
      "cell_type": "code",
      "source": [
        "X_train, X_test, Y_train, Y_test = train_test_split(X, Y, test_size=0.2, stratify=Y, random_state=20029972)\n",
        "print(X.shape, X_train.shape, X_test.shape)"
      ],
      "metadata": {
        "colab": {
          "base_uri": "https://localhost:8080/"
        },
        "id": "dnl9fn4SR1Fw",
        "outputId": "e534902d-0750-41ce-8309-6526d144a3a7"
      },
      "execution_count": null,
      "outputs": [
        {
          "output_type": "stream",
          "name": "stdout",
          "text": [
            "(246022, 38) (196817, 38) (49205, 38)\n"
          ]
        }
      ]
    },
    {
      "cell_type": "markdown",
      "source": [
        "##Model Training and Evaluation\n",
        "\n"
      ],
      "metadata": {
        "id": "75ptL6NCSB33"
      }
    },
    {
      "cell_type": "markdown",
      "source": [
        "### 1. Logistic Regression Model"
      ],
      "metadata": {
        "id": "EstBtsMsSH8f"
      }
    },
    {
      "cell_type": "code",
      "source": [
        "# Feature Scaling\n",
        "scaler = StandardScaler()\n",
        "X_train_scaled = scaler.fit_transform(X_train)\n",
        "X_test_scaled = scaler.transform(X_test)\n",
        "\n",
        "# Initialize and train Logistic Regression Model\n",
        "log_reg = LogisticRegression(max_iter=1000)\n",
        "log_reg.fit(X_train_scaled, Y_train)\n",
        "\n",
        "# Make predictions on the test set\n",
        "y_pred = log_reg.predict(X_test_scaled)\n",
        "y_pred_prob = log_reg.predict_proba(X_test_scaled)[:, 1]"
      ],
      "metadata": {
        "id": "n1wQIh26SEEU"
      },
      "execution_count": null,
      "outputs": []
    },
    {
      "cell_type": "code",
      "source": [
        "# Model Evaluation\n",
        "accuracy = accuracy_score(Y_test, y_pred)\n",
        "precision = precision_score(Y_test, y_pred)\n",
        "recall = recall_score(Y_test, y_pred)\n",
        "f1 = f1_score(Y_test, y_pred)\n",
        "roc_auc = roc_auc_score(Y_test, y_pred_prob)"
      ],
      "metadata": {
        "id": "GXS8zDPwT9kp"
      },
      "execution_count": null,
      "outputs": []
    },
    {
      "cell_type": "code",
      "source": [
        "# Displaying Results\n",
        "print(\"Logistic Regression Performance Metrics:\")\n",
        "print(f\"Accuracy: {accuracy:.4f}\")\n",
        "print(f\"Precision: {precision:.4f}\")\n",
        "print(f\"Recall: {recall:.4f}\")\n",
        "print(f\"F1 Score: {f1:.4f}\")\n",
        "print(f\"AUC-ROC Score: {roc_auc:.4f}\")"
      ],
      "metadata": {
        "colab": {
          "base_uri": "https://localhost:8080/"
        },
        "id": "_eSG5GMDUO25",
        "outputId": "1371226d-4fe7-4ee7-cb97-24f05e989666"
      },
      "execution_count": null,
      "outputs": [
        {
          "output_type": "stream",
          "name": "stdout",
          "text": [
            "Logistic Regression Performance Metrics:\n",
            "Accuracy: 0.9479\n",
            "Precision: 0.5505\n",
            "Recall: 0.2516\n",
            "F1 Score: 0.3453\n",
            "AUC-ROC Score: 0.8918\n"
          ]
        }
      ]
    },
    {
      "cell_type": "code",
      "source": [
        "# Confusion Matrix\n",
        "plt.figure(figsize=(5,4))\n",
        "sns.heatmap(confusion_matrix(Y_test, y_pred), annot=True, fmt='d', cmap='Blues')\n",
        "plt.xlabel(\"Predicted\")\n",
        "plt.ylabel(\"Actual\")\n",
        "plt.title(\"Confusion Matrix - Logistic Regression\")\n",
        "plt.show()"
      ],
      "metadata": {
        "colab": {
          "base_uri": "https://localhost:8080/",
          "height": 410
        },
        "id": "TJMN9qQiUR6e",
        "outputId": "0fc191f0-a4f5-4f8a-c05b-523b873bf2d5"
      },
      "execution_count": null,
      "outputs": [
        {
          "output_type": "display_data",
          "data": {
            "text/plain": [
              "<Figure size 500x400 with 2 Axes>"
            ],
            "image/png": "[encoded data removed]"
          },
          "metadata": {}
        }
      ]
    },
    {
      "cell_type": "markdown",
      "source": [
        "### 2. K-Nearest Neighbors (KNN)"
      ],
      "metadata": {
        "id": "LJ9ciJP2WMGC"
      }
    },
    {
      "cell_type": "code",
      "source": [
        "# Intialize and train KNN model\n",
        "knn = KNeighborsClassifier()\n",
        "knn.fit(X_train_scaled, Y_train)\n",
        "\n",
        "# Make predictions\n",
        "y_pred = knn.predict(X_test_scaled)\n",
        "y_pred_prob = knn.predict_proba(X_test_scaled)[:, 1]"
      ],
      "metadata": {
        "id": "9L-4tayFWSCM",
        "colab": {
          "base_uri": "https://localhost:8080/",
          "height": 356
        },
        "outputId": "87a7d20b-363d-4c4a-b6b5-a6c5b12748e5"
      },
      "execution_count": null,
      "outputs": [
        {
          "output_type": "error",
          "ename": "KeyboardInterrupt",
          "evalue": "",
          "traceback": [
            "\u001b[0;31m---------------------------------------------------------------------------\u001b[0m",
            "\u001b[0;31mKeyboardInterrupt\u001b[0m                         Traceback (most recent call last)",
            "\u001b[0;32m<ipython-input-23-11150af70943>\u001b[0m in \u001b[0;36m<cell line: 0>\u001b[0;34m()\u001b[0m\n\u001b[1;32m      5\u001b[0m \u001b[0;31m# Make predictions\u001b[0m\u001b[0;34m\u001b[0m\u001b[0;34m\u001b[0m\u001b[0m\n\u001b[1;32m      6\u001b[0m \u001b[0my_pred\u001b[0m \u001b[0;34m=\u001b[0m \u001b[0mknn\u001b[0m\u001b[0;34m.\u001b[0m\u001b[0mpredict\u001b[0m\u001b[0;34m(\u001b[0m\u001b[0mX_test_scaled\u001b[0m\u001b[0;34m)\u001b[0m\u001b[0;34m\u001b[0m\u001b[0;34m\u001b[0m\u001b[0m\n\u001b[0;32m----> 7\u001b[0;31m \u001b[0my_pred_prob\u001b[0m \u001b[0;34m=\u001b[0m \u001b[0mknn\u001b[0m\u001b[0;34m.\u001b[0m\u001b[0mpredict_proba\u001b[0m\u001b[0;34m(\u001b[0m\u001b[0mX_test_scaled\u001b[0m\u001b[0;34m)\u001b[0m\u001b[0;34m[\u001b[0m\u001b[0;34m:\u001b[0m\u001b[0;34m,\u001b[0m \u001b[0;36m1\u001b[0m\u001b[0;34m]\u001b[0m\u001b[0;34m\u001b[0m\u001b[0;34m\u001b[0m\u001b[0m\n\u001b[0m",
            "\u001b[0;32m/usr/local/lib/python3.11/dist-packages/sklearn/neighbors/_classification.py\u001b[0m in \u001b[0;36mpredict_proba\u001b[0;34m(self, X)\u001b[0m\n\u001b[1;32m    369\u001b[0m             \u001b[0;31m# In that case, we do not need the distances to perform\u001b[0m\u001b[0;34m\u001b[0m\u001b[0;34m\u001b[0m\u001b[0m\n\u001b[1;32m    370\u001b[0m             \u001b[0;31m# the weighting so we do not compute them.\u001b[0m\u001b[0;34m\u001b[0m\u001b[0;34m\u001b[0m\u001b[0m\n\u001b[0;32m--> 371\u001b[0;31m             \u001b[0mneigh_ind\u001b[0m \u001b[0;34m=\u001b[0m \u001b[0mself\u001b[0m\u001b[0;34m.\u001b[0m\u001b[0mkneighbors\u001b[0m\u001b[0;34m(\u001b[0m\u001b[0mX\u001b[0m\u001b[0;34m,\u001b[0m \u001b[0mreturn_distance\u001b[0m\u001b[0;34m=\u001b[0m\u001b[0;32mFalse\u001b[0m\u001b[0;34m)\u001b[0m\u001b[0;34m\u001b[0m\u001b[0;34m\u001b[0m\u001b[0m\n\u001b[0m\u001b[1;32m    372\u001b[0m             \u001b[0mneigh_dist\u001b[0m \u001b[0;34m=\u001b[0m \u001b[0;32mNone\u001b[0m\u001b[0;34m\u001b[0m\u001b[0;34m\u001b[0m\u001b[0m\n\u001b[1;32m    373\u001b[0m         \u001b[0;32melse\u001b[0m\u001b[0;34m:\u001b[0m\u001b[0;34m\u001b[0m\u001b[0;34m\u001b[0m\u001b[0m\n",
            "\u001b[0;32m/usr/local/lib/python3.11/dist-packages/sklearn/neighbors/_base.py\u001b[0m in \u001b[0;36mkneighbors\u001b[0;34m(self, X, n_neighbors, return_distance)\u001b[0m\n\u001b[1;32m    867\u001b[0m         )\n\u001b[1;32m    868\u001b[0m         \u001b[0;32mif\u001b[0m \u001b[0muse_pairwise_distances_reductions\u001b[0m\u001b[0;34m:\u001b[0m\u001b[0;34m\u001b[0m\u001b[0;34m\u001b[0m\u001b[0m\n\u001b[0;32m--> 869\u001b[0;31m             results = ArgKmin.compute(\n\u001b[0m\u001b[1;32m    870\u001b[0m                 \u001b[0mX\u001b[0m\u001b[0;34m=\u001b[0m\u001b[0mX\u001b[0m\u001b[0;34m,\u001b[0m\u001b[0;34m\u001b[0m\u001b[0;34m\u001b[0m\u001b[0m\n\u001b[1;32m    871\u001b[0m                 \u001b[0mY\u001b[0m\u001b[0;34m=\u001b[0m\u001b[0mself\u001b[0m\u001b[0;34m.\u001b[0m\u001b[0m_fit_X\u001b[0m\u001b[0;34m,\u001b[0m\u001b[0;34m\u001b[0m\u001b[0;34m\u001b[0m\u001b[0m\n",
            "\u001b[0;32m/usr/local/lib/python3.11/dist-packages/sklearn/metrics/_pairwise_distances_reduction/_dispatcher.py\u001b[0m in \u001b[0;36mcompute\u001b[0;34m(cls, X, Y, k, metric, chunk_size, metric_kwargs, strategy, return_distance)\u001b[0m\n\u001b[1;32m    279\u001b[0m         \"\"\"\n\u001b[1;32m    280\u001b[0m         \u001b[0;32mif\u001b[0m \u001b[0mX\u001b[0m\u001b[0;34m.\u001b[0m\u001b[0mdtype\u001b[0m \u001b[0;34m==\u001b[0m \u001b[0mY\u001b[0m\u001b[0;34m.\u001b[0m\u001b[0mdtype\u001b[0m \u001b[0;34m==\u001b[0m \u001b[0mnp\u001b[0m\u001b[0;34m.\u001b[0m\u001b[0mfloat64\u001b[0m\u001b[0;34m:\u001b[0m\u001b[0;34m\u001b[0m\u001b[0;34m\u001b[0m\u001b[0m\n\u001b[0;32m--> 281\u001b[0;31m             return ArgKmin64.compute(\n\u001b[0m\u001b[1;32m    282\u001b[0m                 \u001b[0mX\u001b[0m\u001b[0;34m=\u001b[0m\u001b[0mX\u001b[0m\u001b[0;34m,\u001b[0m\u001b[0;34m\u001b[0m\u001b[0;34m\u001b[0m\u001b[0m\n\u001b[1;32m    283\u001b[0m                 \u001b[0mY\u001b[0m\u001b[0;34m=\u001b[0m\u001b[0mY\u001b[0m\u001b[0;34m,\u001b[0m\u001b[0;34m\u001b[0m\u001b[0;34m\u001b[0m\u001b[0m\n",
            "\u001b[0;32msklearn/metrics/_pairwise_distances_reduction/_argkmin.pyx\u001b[0m in \u001b[0;36msklearn.metrics._pairwise_distances_reduction._argkmin.ArgKmin64.compute\u001b[0;34m()\u001b[0m\n",
            "\u001b[0;32m/usr/local/lib/python3.11/dist-packages/threadpoolctl.py\u001b[0m in \u001b[0;36m__exit__\u001b[0;34m(self, type, value, traceback)\u001b[0m\n\u001b[1;32m    590\u001b[0m         \u001b[0;32mreturn\u001b[0m \u001b[0mself\u001b[0m\u001b[0;34m\u001b[0m\u001b[0;34m\u001b[0m\u001b[0m\n\u001b[1;32m    591\u001b[0m \u001b[0;34m\u001b[0m\u001b[0m\n\u001b[0;32m--> 592\u001b[0;31m     \u001b[0;32mdef\u001b[0m \u001b[0m__exit__\u001b[0m\u001b[0;34m(\u001b[0m\u001b[0mself\u001b[0m\u001b[0;34m,\u001b[0m \u001b[0mtype\u001b[0m\u001b[0;34m,\u001b[0m \u001b[0mvalue\u001b[0m\u001b[0;34m,\u001b[0m \u001b[0mtraceback\u001b[0m\u001b[0;34m)\u001b[0m\u001b[0;34m:\u001b[0m\u001b[0;34m\u001b[0m\u001b[0;34m\u001b[0m\u001b[0m\n\u001b[0m\u001b[1;32m    593\u001b[0m         \u001b[0mself\u001b[0m\u001b[0;34m.\u001b[0m\u001b[0mrestore_original_limits\u001b[0m\u001b[0;34m(\u001b[0m\u001b[0;34m)\u001b[0m\u001b[0;34m\u001b[0m\u001b[0;34m\u001b[0m\u001b[0m\n\u001b[1;32m    594\u001b[0m \u001b[0;34m\u001b[0m\u001b[0m\n",
            "\u001b[0;31mKeyboardInterrupt\u001b[0m: "
          ]
        }
      ]
    },
    {
      "cell_type": "code",
      "source": [
        "#Model Evalution\n",
        "accuracy = accuracy_score(Y_test, y_pred)\n",
        "precision = precision_score(Y_test, y_pred)\n",
        "recall = recall_score(Y_test, y_pred)\n",
        "f1 = f1_score(Y_test, y_pred)\n",
        "roc_auc = roc_auc_score(Y_test, y_pred_prob)"
      ],
      "metadata": {
        "id": "gvUlMYvEWaIs"
      },
      "execution_count": null,
      "outputs": []
    },
    {
      "cell_type": "code",
      "source": [
        "#Displaying the result of the Model Evaluation\n",
        "print(\"K-Nearest Neighbors Performance Metrics:\")\n",
        "print(f\"Accuracy: {accuracy:.4f}\")\n",
        "print(f\"Precision: {precision:.4f}\")\n",
        "print(f\"Recall: {recall:.4f}\")\n",
        "print(f\"F1 Score: {f1:.4f}\")\n",
        "print(f\"AUC-ROC Score: {roc_auc:.4f}\")"
      ],
      "metadata": {
        "id": "AwHHWwhJWelL"
      },
      "execution_count": null,
      "outputs": []
    },
    {
      "cell_type": "code",
      "source": [
        "# Printing the Confusion Matrix\n",
        "plt.figure(figsize=(5,4))\n",
        "sns.heatmap(confusion_matrix(Y_test, y_pred), annot=True, fmt='d', cmap='Blues')\n",
        "plt.xlabel(\"Predicted\")\n",
        "plt.ylabel(\"Actual\")\n",
        "plt.title(\"Confusion Matrix - KNN\")\n",
        "plt.show()"
      ],
      "metadata": {
        "id": "5JfJO2aEWmhK"
      },
      "execution_count": null,
      "outputs": []
    },
    {
      "cell_type": "markdown",
      "source": [
        "### 3. Decision Tree"
      ],
      "metadata": {
        "id": "r6_iIuBbXDY_"
      }
    },
    {
      "cell_type": "code",
      "source": [
        "# Initialize and Train Decision Tree model\n",
        "dt = DecisionTreeClassifier()\n",
        "dt.fit(X_train, Y_train)\n",
        "\n",
        "# Making predictions\n",
        "y_pred = dt.predict(X_test)\n",
        "y_pred_prob = dt.predict_proba(X_test)[:, 1]"
      ],
      "metadata": {
        "id": "InXK7e0tXLtV"
      },
      "execution_count": null,
      "outputs": []
    },
    {
      "cell_type": "code",
      "source": [
        "# Model Evaluation\n",
        "accuracy = accuracy_score(Y_test, y_pred)\n",
        "precision = precision_score(Y_test, y_pred)\n",
        "recall = recall_score(Y_test, y_pred)\n",
        "f1 = f1_score(Y_test, y_pred)\n",
        "roc_auc = roc_auc_score(Y_test, y_pred_prob)"
      ],
      "metadata": {
        "id": "O0HNqNoTXPv9"
      },
      "execution_count": null,
      "outputs": []
    },
    {
      "cell_type": "code",
      "source": [
        "# Displaying the result of Model Evalution\n",
        "print(\"Decision Tree Performance Metrics:\")\n",
        "print(f\"Accuracy: {accuracy:.4f}\")\n",
        "print(f\"Precision: {precision:.4f}\")\n",
        "print(f\"Recall: {recall:.4f}\")\n",
        "print(f\"F1 Score: {f1:.4f}\")\n",
        "print(f\"AUC-ROC Score: {roc_auc:.4f}\")"
      ],
      "metadata": {
        "colab": {
          "base_uri": "https://localhost:8080/"
        },
        "id": "ceCYV9bkXRf3",
        "outputId": "db4661dd-20ed-43a6-b66f-393678bfaed6"
      },
      "execution_count": null,
      "outputs": [
        {
          "output_type": "stream",
          "name": "stdout",
          "text": [
            "Decision Tree Performance Metrics:\n",
            "Accuracy: 0.9115\n",
            "Precision: 0.2405\n",
            "Recall: 0.2881\n",
            "F1 Score: 0.2622\n",
            "AUC-ROC Score: 0.6178\n"
          ]
        }
      ]
    },
    {
      "cell_type": "code",
      "source": [
        "# Plotting the Confusion Matrix\n",
        "plt.figure(figsize=(5,4))\n",
        "sns.heatmap(confusion_matrix(Y_test, y_pred), annot=True, fmt='d', cmap='Blues')\n",
        "plt.xlabel(\"Predicted\")\n",
        "plt.ylabel(\"Actual\")\n",
        "plt.title(\"Confusion Matrix - Decision Tree\")\n",
        "plt.show()"
      ],
      "metadata": {
        "colab": {
          "base_uri": "https://localhost:8080/",
          "height": 410
        },
        "id": "kvInH17_XS4d",
        "outputId": "0d529a0a-3de9-4922-dee1-8a452e5f802e"
      },
      "execution_count": null,
      "outputs": [
        {
          "output_type": "display_data",
          "data": {
            "text/plain": [
              "<Figure size 500x400 with 2 Axes>"
            ],
            "image/png": "[encoded data removed]"
          },
          "metadata": {}
        }
      ]
    },
    {
      "cell_type": "markdown",
      "source": [
        "### 4. Random Forest"
      ],
      "metadata": {
        "id": "LN1pbP-JYIro"
      }
    },
    {
      "cell_type": "code",
      "source": [
        "# Initialize and Train Decision Tree model\n",
        "rf = RandomForestClassifier(n_estimators=100, random_state=20029972)\n",
        "rf.fit(X_train_scaled, Y_train)\n",
        "\n",
        "# Make predictions\n",
        "y_pred = rf.predict(X_test_scaled)\n",
        "y_pred_prob = rf.predict_proba(X_test_scaled)[:, 1]"
      ],
      "metadata": {
        "id": "XGISSlRIYQxx"
      },
      "execution_count": null,
      "outputs": []
    },
    {
      "cell_type": "code",
      "source": [
        "# Model Evaluation\n",
        "accuracy = accuracy_score(Y_test, y_pred)\n",
        "precision = precision_score(Y_test, y_pred)\n",
        "recall = recall_score(Y_test, y_pred)\n",
        "f1 = f1_score(Y_test, y_pred)\n",
        "roc_auc = roc_auc_score(Y_test, y_pred_prob)"
      ],
      "metadata": {
        "id": "8M-P9pkXYaak"
      },
      "execution_count": null,
      "outputs": []
    },
    {
      "cell_type": "code",
      "source": [
        "# Displaying the results of the Model Evalution\n",
        "print(\"Random Forest Performance Metrics:\")\n",
        "print(f\"Accuracy: {accuracy:.4f}\")\n",
        "print(f\"Precision: {precision:.4f}\")\n",
        "print(f\"Recall: {recall:.4f}\")\n",
        "print(f\"F1 Score: {f1:.4f}\")\n",
        "print(f\"AUC-ROC Score: {roc_auc:.4f}\")"
      ],
      "metadata": {
        "colab": {
          "base_uri": "https://localhost:8080/"
        },
        "id": "MpuS6vzgYhjp",
        "outputId": "952f6a6f-79fa-47e3-969d-91ad5cd3b5b3"
      },
      "execution_count": null,
      "outputs": [
        {
          "output_type": "stream",
          "name": "stdout",
          "text": [
            "Random Forest Performance Metrics:\n",
            "Accuracy: 0.9488\n",
            "Precision: 0.6030\n",
            "Recall: 0.1820\n",
            "F1 Score: 0.2796\n",
            "AUC-ROC Score: 0.8802\n"
          ]
        }
      ]
    },
    {
      "cell_type": "code",
      "source": [
        "# Printing the Confusion Matrix for Random Forest\n",
        "plt.figure(figsize=(5,4))\n",
        "sns.heatmap(confusion_matrix(Y_test, y_pred), annot=True, fmt='d', cmap='Blues')\n",
        "plt.xlabel(\"Predicted\")\n",
        "plt.ylabel(\"Actual\")\n",
        "plt.title(\"Confusion Matrix - Random Forest\")\n",
        "plt.show()"
      ],
      "metadata": {
        "colab": {
          "base_uri": "https://localhost:8080/",
          "height": 410
        },
        "id": "nUCIFKvXYsBS",
        "outputId": "887e6559-2a14-4b29-f291-9e0879c77494"
      },
      "execution_count": null,
      "outputs": [
        {
          "output_type": "display_data",
          "data": {
            "text/plain": [
              "<Figure size 500x400 with 2 Axes>"
            ],
            "image/png": "[encoded data removed]"
          },
          "metadata": {}
        }
      ]
    },
    {
      "cell_type": "markdown",
      "source": [
        "### 5. Support Vector Machine (SVM)"
      ],
      "metadata": {
        "id": "g32_Fe7xYrY6"
      }
    },
    {
      "cell_type": "code",
      "source": [
        "# Initialize base SVM\n",
        "base_svm = LinearSVC(max_iter=5000)\n",
        "\n",
        "# Wrap in CalibratedClassifierCV to enable probability prediction amd train the model\n",
        "svm = CalibratedClassifierCV(base_svm)\n",
        "svm.fit(X_train, Y_train)\n",
        "\n",
        "# Predictions\n",
        "y_pred = svm.predict(X_test)\n",
        "y_pred_prob = svm.predict_proba(X_test)[:, 1]"
      ],
      "metadata": {
        "id": "c3etsHeNZGDB"
      },
      "execution_count": null,
      "outputs": []
    },
    {
      "cell_type": "code",
      "source": [
        "# Model Evalution\n",
        "accuracy = accuracy_score(Y_test, y_pred)\n",
        "precision = precision_score(Y_test, y_pred)\n",
        "recall = recall_score(Y_test, y_pred)\n",
        "f1 = f1_score(Y_test, y_pred)\n",
        "roc_auc = roc_auc_score(Y_test, y_pred_prob)"
      ],
      "metadata": {
        "id": "KmjKma4VZXVd"
      },
      "execution_count": null,
      "outputs": []
    },
    {
      "cell_type": "code",
      "source": [
        "# Print the results of Model Evalution\n",
        "print(\"Support Vector Machine (SVM) Performance Metrics:\")\n",
        "print(f\"Accuracy: {accuracy:.4f}\")\n",
        "print(f\"Precision: {precision:.4f}\")\n",
        "print(f\"Recall: {recall:.4f}\")\n",
        "print(f\"F1 Score: {f1:.4f}\")\n",
        "print(f\"AUC-ROC Score: {roc_auc:.4f}\")"
      ],
      "metadata": {
        "id": "fx8jmZG1ZaNO"
      },
      "execution_count": null,
      "outputs": []
    },
    {
      "cell_type": "code",
      "source": [
        "# Displaying the Confusion Matrix for SVM\n",
        "plt.figure(figsize=(5, 4))\n",
        "sns.heatmap(confusion_matrix(Y_test, y_pred), annot=True, fmt='d', cmap='Blues')\n",
        "plt.xlabel(\"Predicted\")\n",
        "plt.ylabel(\"Actual\")\n",
        "plt.title(\"Confusion Matrix - SVM\")\n",
        "plt.show()"
      ],
      "metadata": {
        "id": "Qa8Xi2ZeZpJB"
      },
      "execution_count": null,
      "outputs": []
    },
    {
      "cell_type": "markdown",
      "source": [
        "### 6. Gradient Boosting Classifier"
      ],
      "metadata": {
        "id": "odIKsLrYZ2Kf"
      }
    },
    {
      "cell_type": "code",
      "source": [
        "# Initialize and train the Ridge Regression Model\n",
        "gb = GradientBoostingClassifier()\n",
        "gb.fit(X_train, y_train)\n",
        "\n",
        "# Make predictions\n",
        "y_pred_gb = gb.predict(X_test)"
      ],
      "metadata": {
        "id": "nnkg5op6Z5Oz"
      },
      "execution_count": null,
      "outputs": []
    },
    {
      "cell_type": "code",
      "source": [
        "# Model Evaluation\n",
        "acc_gb = accuracy_score(y_test, y_pred_gb)\n",
        "prec_gb = precision_score(y_test, y_pred_gb)\n",
        "recall_gb = recall_score(y_test, y_pred_gb)\n",
        "f1_gb = f1_score(y_test, y_pred_gb)"
      ],
      "metadata": {
        "id": "vI9ZPOXOZ_Ol"
      },
      "execution_count": null,
      "outputs": []
    },
    {
      "cell_type": "code",
      "source": [
        "# Displaying the result of the Model Evaluation\n",
        "print(\"Gradient Boosting Classifier Performance Metrics:\")\n",
        "print(f\"Accuracy: {acc_gb:.4f}\")\n",
        "print(f\"Precision: {prec_gb:.4f}\")\n",
        "print(f\"Recall: {recall_gb:.4f}\")\n",
        "print(f\"F1-Score: {f1_gb:.4f}\")"
      ],
      "metadata": {
        "id": "iJuMVxkFaWjz"
      },
      "execution_count": null,
      "outputs": []
    },
    {
      "cell_type": "code",
      "source": [
        "# Plotting the actual vs predicted values\n",
        "cm = confusion_matrix(y_test, y_pred_gb)\n",
        "disp = ConfusionMatrixDisplay(confusion_matrix=cm)\n",
        "disp.plot(cmap='Blues')\n",
        "plt.title(\"Confusion Matrix - Gradient Boosting\")\n",
        "plt.show()"
      ],
      "metadata": {
        "id": "A_lVkukDajYx"
      },
      "execution_count": null,
      "outputs": []
    }
  ]
}